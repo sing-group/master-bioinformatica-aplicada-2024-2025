{
 "cells": [
  {
   "cell_type": "markdown",
   "id": "4b1b70c5-3d00-4cd5-b488-b0718c82127f",
   "metadata": {},
   "source": [
    "# Dataset: Breast Cancer Wisconsin\n",
    "\n",
    "En este notebook utilizaremos el Breast Cancer Wisconsin dataset, disponible en el UCI Machine Learning Repository: https://archive.ics.uci.edu/ml/datasets/Breast+Cancer+Wisconsin+(Diagnostic)\n",
    "\n",
    "El dataset contiene 569 muetras y la información de 32 características o variables para cada una de ellas. Dichas características se calculan a partir de imagenes digitalizadas de muestras de cancer de mama: *Features are computed from a digitized image of a fine needle aspirate (FNA) of a breast mass. They describe characteristics of the cell nuclei present in the image.*\n",
    "\n",
    "<br/>\n",
    "<div>\n",
    "<img src=\"notebook-images/dataset.png\" width=\"800\">\n",
    "</div>\n",
    "\n",
    "# Librerías Python\n",
    "\n",
    "Para crear y evaluar los modelos de Machine Learning (ML), utilizaremos la librería para Python llamada `scikit-learn` o `sklearn` (https://scikit-learn.org/stable/). El entorno Conda en el que se ejecuta este notebook tiene instalada la versión 1.5.2 de `sklearn`, por lo que la documentación correspondiente se encuentra aquí: https://scikit-learn.org/1.5/getting_started.html\n",
    "\n",
    "Además, utilizaremos las librerías pandas y numpy para el manejo de dataframes y arrays.\n",
    "\n",
    "# Lectura de datos\n",
    "\n",
    "Empezamos importando las librerías necesarias y listando los ficheros en el directorio en el que nos encontramos. Si estamos bien situados, deben aparecernos las carpetas `data` y `resources`."
   ]
  },
  {
   "cell_type": "code",
   "execution_count": null,
   "id": "substantial-nebraska",
   "metadata": {},
   "outputs": [],
   "source": [
    "import pandas as pd\n",
    "import numpy as np\n",
    "\n",
    "import os\n",
    "print(os.listdir(\"../\"))"
   ]
  },
  {
   "cell_type": "markdown",
   "id": "compact-public",
   "metadata": {},
   "source": [
    "Utilizamos la función `read_csv` de pandas para cargar el fichero de datos y mostramos las primeras filas."
   ]
  },
  {
   "cell_type": "code",
   "execution_count": null,
   "id": "veterinary-yield",
   "metadata": {},
   "outputs": [],
   "source": [
    "data = pd.read_csv('../data/wdbc.data')\n",
    "data.head()"
   ]
  },
  {
   "cell_type": "markdown",
   "id": "official-ukraine",
   "metadata": {},
   "source": [
    "# Análisis de datos exploratorio\n",
    "\n",
    "Antes de comenzar con la aplicación específica de métodos de aprendizaje automático, lo habitual es comenzar un proyecto de ciencia de datos con un análisis de datos exploratorio.\n",
    "\n",
    "## Información del dataset\n",
    "\n",
    "En primer lugar, utilizamos algunas funciones para mostrar el tamaño del dataset o información básica acerca de sus columnas."
   ]
  },
  {
   "cell_type": "code",
   "execution_count": null,
   "id": "adapted-option",
   "metadata": {},
   "outputs": [],
   "source": [
    "print(\"Dataset size: \", data.shape)\n",
    "print('\\n', '**'* 50, '\\n')\n",
    "data.info()\n",
    "print('\\n', '**'* 50, '\\n')\n",
    "data.describe(include = 'all')"
   ]
  },
  {
   "cell_type": "markdown",
   "id": "better-popularity",
   "metadata": {},
   "source": [
    "Comprobamos si existen valores nulos en alguna columna:"
   ]
  },
  {
   "cell_type": "code",
   "execution_count": null,
   "id": "round-probe",
   "metadata": {},
   "outputs": [],
   "source": [
    "data.isnull().sum()"
   ]
  },
  {
   "cell_type": "markdown",
   "id": "elementary-plenty",
   "metadata": {},
   "source": [
    "Como no hay valores nulos, vamos a comprobar cuántas muestras hay de cada clase (M = Malignant, B = Benignant)."
   ]
  },
  {
   "cell_type": "code",
   "execution_count": null,
   "id": "fabulous-bryan",
   "metadata": {},
   "outputs": [],
   "source": [
    "print('Número de muestras por clase:')\n",
    "print(data['diagnosis'].value_counts())"
   ]
  },
  {
   "cell_type": "markdown",
   "id": "hired-publicity",
   "metadata": {},
   "source": [
    "## Representaciones gráficas\n",
    "\n",
    "Como podemos ver, el dataset está ligeramente desbalanceado, habiendo más muestras de la clase *Benignant*. Utilizando las librerías gráficas seaborn (https://seaborn.pydata.org/) y matplotlib, hacemos un histograma con esta distribución."
   ]
  },
  {
   "cell_type": "code",
   "execution_count": null,
   "id": "wrapped-release",
   "metadata": {},
   "outputs": [],
   "source": [
    "import seaborn as sns\n",
    "\n",
    "sns.countplot(data=data, x='diagnosis')"
   ]
  },
  {
   "cell_type": "markdown",
   "id": "double-socket",
   "metadata": {},
   "source": [
    "Ahora, podemos decidir explorar algunas de las variables y ver su distribución con respecto a la variable de interés."
   ]
  },
  {
   "cell_type": "code",
   "execution_count": null,
   "id": "becoming-survivor",
   "metadata": {},
   "outputs": [],
   "source": [
    "# Use a subset of variables\n",
    "for x in ['texture_mean', 'radius_mean', 'symmetry_worst']:\n",
    "    sns.displot(data=data, x=x, col='diagnosis', kde=True, bins=10)\n",
    "\n",
    "# Or create a figure for all variables instead\n",
    "# for x in data.columns[2:len(data.columns)]:\n",
    "#    sns.displot(data=data, x=x, col='diagnosis', kde=True, bins=10)"
   ]
  },
  {
   "cell_type": "markdown",
   "id": "f69abeff",
   "metadata": {},
   "source": [
    "Otra representación habitual en el análisis exploratorio de datos es enfrentar todas las variables entre ellas utilizando la función `sns.pairplot` (https://seaborn.pydata.org/generated/seaborn.pairplot.html; https://builtin.com/articles/seaborn-pairplot). A continuación realizamos esta representación utilizando tan solo tres variables y diferenciando por la columna diagnóstico. Como puedes ver, cuando cada variable se enfrenta consigo misma se muestra su distribución mientras que entre variables diferentes se realiza un *scatterplot*."
   ]
  },
  {
   "cell_type": "code",
   "execution_count": null,
   "id": "d9be399e",
   "metadata": {},
   "outputs": [],
   "source": [
    "# Make a pairplot \n",
    "\n",
    "sns.pairplot(data=data, hue='diagnosis', vars=['texture_mean', 'radius_mean', 'symmetry_worst'])"
   ]
  },
  {
   "cell_type": "markdown",
   "id": "f7b969aa",
   "metadata": {},
   "source": [
    "## Análisis de correlación\n",
    "\n",
    "El análisis de correlación se suele llevar a cabo en esta fase por varias razones:\n",
    "1. Identificación de relaciones entre variables: Permite descubrir cómo se relacionan entre sí las variables, lo que ayuda a entender la estructura y comportamiento del conjunto de datos. Por ejemplo, si dos variables están fuertemente correlacionadas, pueden aportar información redundante.\n",
    "2. Detección de multicolinealidad: En modelos lineales o en técnicas que son sensibles a la colinealidad, identificar variables altamente correlacionadas es crucial. Esto permite tomar decisiones para eliminar o combinar variables y evitar problemas que pueden degradar el rendimiento del modelo.\n",
    "3. Selección de características (feature selection): La correlación entre variables predictoras y la variable objetivo ayuda a identificar cuáles pueden tener mayor poder predictivo. Esto orienta la selección y transformación de las variables, mejorando la eficiencia y efectividad del modelo.\n",
    "4. Guía para la ingeniería de características: Conocer las relaciones entre variables puede inspirar la creación de nuevas variables o la transformación de las existentes, optimizando la capacidad del modelo para aprender patrones relevantes.\n",
    "5. Facilita la visualización y comprensión de los datos: Las matrices de correlación y otros gráficos asociados son herramientas útiles para tener una visión rápida de cómo se relacionan las variables, lo que es esencial en la etapa exploratoria para plantear hipótesis y estrategias de modelado.\n",
    "\n",
    "Para ello podemos calcular la correlación de Pearson utilizando la función `corr` que forma parte de los *dataframes* de Pandas y luego hacer una visualización con la función `sns.heatmap` (https://seaborn.pydata.org/generated/seaborn.heatmap.html)."
   ]
  },
  {
   "cell_type": "code",
   "execution_count": null,
   "id": "baecf7c8",
   "metadata": {},
   "outputs": [],
   "source": [
    "import seaborn as sns\n",
    "import matplotlib.pyplot as plt\n",
    "\n",
    "correlation_matrix = data.drop(columns=['diagnosis', 'id']).corr('pearson')\n",
    "\n",
    "plt.figure(figsize=(18, 13))\n",
    "\n",
    "sns.heatmap(\n",
    "    correlation_matrix,\n",
    "    annot=True,\n",
    "    cmap='coolwarm',\n",
    "    vmin=-1,\n",
    "    vmax=1,\n",
    "    linewidths=0.5,\n",
    "    annot_kws={\"size\": 8}\n",
    ")\n",
    "\n",
    "plt.title('Correlation Heatmap')\n",
    "plt.show()\n"
   ]
  },
  {
   "cell_type": "markdown",
   "id": "cbe515b3",
   "metadata": {},
   "source": [
    "Aprovechamos este punto para aplicar una técnica de aprendizaje no supervisado como es el clustering jerárquico. A partir de la matriz de correlación la convertimos en una matriz de distancias (donde la máxima correlación [1] se corresponda con una distancia mínima [0]) y calculamos la matriz de enlazado con la función `linkage`. La visualización se realiza con la función `dendrogram` que recibe como entrada dicha matriz de enlazado. Comprueba como el parámetro `color_threshold` permite cambiar los colores usados para representar las ramas del árbol."
   ]
  },
  {
   "cell_type": "code",
   "execution_count": null,
   "id": "883cf87f",
   "metadata": {},
   "outputs": [],
   "source": [
    "from scipy.cluster.hierarchy import linkage, dendrogram\n",
    "from scipy.spatial.distance import squareform\n",
    "import matplotlib.pyplot as plt\n",
    "\n",
    "# Compute the linkage matrix for hierarchical clustering\n",
    "linkage_matrix = linkage(squareform(1-correlation_matrix), method='ward')\n",
    "\n",
    "# Plot the dendrogram with a specified threshold\n",
    "plt.figure(figsize=(12, 6))\n",
    "dendrogram(linkage_matrix, labels=correlation_matrix.columns, leaf_rotation=90, color_threshold=3.0)\n",
    "plt.title('Hierarchical Clustering Dendrogram')\n",
    "plt.xlabel('Features')\n",
    "plt.ylabel('Distance')\n",
    "plt.show()"
   ]
  },
  {
   "cell_type": "markdown",
   "id": "leading-kennedy",
   "metadata": {},
   "source": [
    "# División en train y test\n",
    "\n",
    "En primer lugar, vamos a separar el conjunto de datos original que se encuentra en `data` en: `X`, un dataframe con las variables predictoras, e `Y`, un dataframe con la variable objetivo (la columna `diagnosis`). A la hora de crear `X`, también eliminamos la variable `id` puesto que no debe utilizarse para clasificación."
   ]
  },
  {
   "cell_type": "code",
   "execution_count": null,
   "id": "funny-garden",
   "metadata": {},
   "outputs": [],
   "source": [
    "print('Tamaño del dataset (muestras x variables):', data.shape)\n",
    "\n",
    "X = data.drop(columns=['diagnosis', 'id'])\n",
    "Y = pd.DataFrame(data['diagnosis'])"
   ]
  },
  {
   "cell_type": "markdown",
   "id": "toxic-geology",
   "metadata": {},
   "source": [
    "A continuación cargamos la función de sklearn que permite dividir en train y test y definimos una variable `random_state` que define la semilla para la generación de valores aleatorios, de manera que podamos obtener siempre la misma división en train y test. Fíjate en los parámetros `test_size` y `stratify`."
   ]
  },
  {
   "cell_type": "code",
   "execution_count": null,
   "id": "incredible-fields",
   "metadata": {},
   "outputs": [],
   "source": [
    "from sklearn.model_selection import train_test_split\n",
    "\n",
    "random_state = 2025\n",
    "\n",
    "X_train, X_test, Y_train, Y_test = train_test_split(\n",
    "    X, Y,\n",
    "    test_size=0.3,\n",
    "    stratify=Y,\n",
    "    random_state=random_state\n",
    ")\n",
    "\n",
    "print('Tamaño del train:', X_train.shape)\n",
    "print('Tamaño del test:', X_test.shape)"
   ]
  },
  {
   "cell_type": "markdown",
   "id": "fitting-funds",
   "metadata": {},
   "source": [
    "<div><img src=\"notebook-images/pregunta-icono.png\"></div>\n",
    "\n",
    "<span style=\"color:blue\">**Ejercicio**)</span> Para terminar, mostramos el número de muestras de cada clase en train y test:"
   ]
  },
  {
   "cell_type": "code",
   "execution_count": null,
   "id": "bored-exploration",
   "metadata": {},
   "outputs": [],
   "source": [
    "## Ejercicio: muestra el número de muestras de cada clase en train y test.\n"
   ]
  },
  {
   "attachments": {
    "51993e16-918f-4c96-8bff-8a1ba94dab12.png": {
     "image/png": "[encoded data removed]"
    }
   },
   "cell_type": "markdown",
   "id": "1236e710-705f-47ac-a4bf-54f6b1700952",
   "metadata": {},
   "source": [
    "# K-nearest neighbors\n",
    "\n",
    "Uno de los modelos más simples es *K-nearest neighbors*, un método basado en instancias en el que la parte del entrenamiento simplemente consiste en almacenar las instancias (no se construye un modelo como tal). A la hora de predecir la clase de una nueva muestra, se buscan las K muestras más similares y se decide la clase por votación.\n",
    "\n",
    "![imagen.png](attachment:51993e16-918f-4c96-8bff-8a1ba94dab12.png)\n",
    "\n",
    "En sklearn está implementado en la clase `KNeighborsClassifier` (https://scikit-learn.org/1.5/modules/generated/sklearn.neighbors.KNeighborsClassifier.html) y aquí puedes encontrar más información: https://scikit-learn.org/1.5/modules/neighbors.html\n",
    "\n",
    "El objetivo de este primer ejemplo es familiarizarse con la manera de entrenar un clasificador en sklearn y de utilizarlo para hacer predicciones, pues con todos los modelos se hace de la misma manera.\n",
    "\n",
    "Empezamos creando el modelo con los hiper-parámetros por defecto (es decir, el número de vecinos es 5 y el parámetro `weights` toma el valor `uniform`). Una vez creado el modelo, este se ajusta llamando a la función `fit`, a la que se le pasan los datos de entrenamiento."
   ]
  },
  {
   "cell_type": "code",
   "execution_count": null,
   "id": "seventh-herald",
   "metadata": {},
   "outputs": [],
   "source": [
    "from sklearn.neighbors import KNeighborsClassifier\n",
    "from sklearn import metrics\n",
    "\n",
    "knn = KNeighborsClassifier()\n",
    "# Use Y_train.values.ravel() to avoid a warning\n",
    "knn.fit(X_train, Y_train.values.ravel())"
   ]
  },
  {
   "cell_type": "markdown",
   "id": "smooth-chile",
   "metadata": {},
   "source": [
    "Y obtenemos la predicción llamando a `predict` sobre el modelo creado y pasándole el conjunto de test. Esta predicción se compara con las clases reales que tenemos en `Y_test` utilizando la función `accuracy_score`:"
   ]
  },
  {
   "cell_type": "code",
   "execution_count": null,
   "id": "hidden-sphere",
   "metadata": {},
   "outputs": [],
   "source": [
    "knn_prediction = knn.predict(X_test)\n",
    "print('kNN predictions on the test set:', knn_prediction)\n",
    "print('kNN accuracy = {}'.format(metrics.accuracy_score(Y_test, knn_prediction)))"
   ]
  },
  {
   "cell_type": "markdown",
   "id": "latest-ferry",
   "metadata": {},
   "source": [
    "<div><img src=\"notebook-images/pregunta-icono.png\"></div>\n",
    "\n",
    "<span style=\"color:blue\">**Ejercicio**)</span> ¿Qué pasa si probamos con otros números de vecinos (1, 10, 15)?"
   ]
  },
  {
   "cell_type": "code",
   "execution_count": null,
   "id": "aggregate-devices",
   "metadata": {},
   "outputs": [],
   "source": [
    "## Ejercicio: prueba a cambiar el número de vecinos y el peso de los mismos."
   ]
  },
  {
   "cell_type": "markdown",
   "id": "organic-resource",
   "metadata": {},
   "source": [
    "<div><img src=\"notebook-images/pregunta-icono.png\"></div>\n",
    "\n",
    "<span style=\"color:blue\">**Ejercicio**)</span> Como podemos ver, la tasa de aciertos con 10 y 15 vecinos es ligeramente más baja. Echa un vistazo al parámetro `weights` y comprueba si mejora este rendimiento."
   ]
  },
  {
   "cell_type": "code",
   "execution_count": null,
   "id": "generous-shark",
   "metadata": {},
   "outputs": [],
   "source": [
    "## Ejercicio: prueba a cambiar el parámetro weights."
   ]
  },
  {
   "cell_type": "markdown",
   "id": "accredited-tunnel",
   "metadata": {},
   "source": [
    "# Escalar los datos\n",
    "\n",
    "Analizamos nuevamente el dataset utilizando `describe`:"
   ]
  },
  {
   "cell_type": "code",
   "execution_count": null,
   "id": "tight-cleaners",
   "metadata": {},
   "outputs": [],
   "source": [
    "data.describe()"
   ]
  },
  {
   "cell_type": "markdown",
   "id": "talented-allen",
   "metadata": {},
   "source": [
    "Podemos ver que ciertas columnas tienen un rango de valores muy pequeño, como `smoothness_mean` o `concavity_mean`, y otras un rango de valores muy amplio, como `area_mean`. Cuando se aplican algoritmos basados en el cálculo de distancias (como kNN, en el que empleamos la distancia euclídea, Support Vector Machines, o técnicas como el hierarchical clustering) puede ocurrir que las diferencias entre muestras estén dominadas por las diferencias en esas variables con un rango más amplio de valores. \n",
    "\n",
    "Por ejemplo, si tuviésemos dos muestras (A y B) con dos variables cada una (X1 y X2): A = [10, 100] y B = [9, 90], la distancia euclídea entre ambas sería de 10.05, ya que está dominada por la escala en la segunda variable aunque la diferencia es proporcional (la misma distancia multiplicada por 10). Si escalamos los datos (A = [0.7071068, 0.7071068], B = [-0.7071068, -0.7071068]), entonces la distancia euclídea es 2."
   ]
  },
  {
   "cell_type": "code",
   "execution_count": null,
   "id": "concerned-saint",
   "metadata": {},
   "outputs": [],
   "source": [
    "from sklearn.metrics import DistanceMetric\n",
    "dist = DistanceMetric.get_metric('euclidean')\n",
    "\n",
    "Test_Data = [[10, 100], [9, 90]]\n",
    "print(\"Distancia euclídea entre los datos sin escalar: \", dist.pairwise(Test_Data)[1,0])\n",
    "\n",
    "Test_Data_scaled = [[0.7071068, 0.7071068], [-0.7071068, -0.7071068]]\n",
    "print(\"Distancia euclídea entre los datos escalados: \", dist.pairwise(Test_Data_scaled)[1,0])"
   ]
  },
  {
   "cell_type": "markdown",
   "id": "supreme-operations",
   "metadata": {},
   "source": [
    "En estos casos, suele ser recomendable escalar los valores de cada variable para que todas ellas tengan media 0 y desviación típica 1. En sklearn se puede hacer utilizando `StandardScaler` (https://scikit-learn.org/1.5/modules/generated/sklearn.preprocessing.StandardScaler.html).\n",
    "\n",
    "Vamos a escalar el dataset y aplicar nuevamente kNN. Comenzamos por el escalado, en el que es importante tener en cuenta que la media y desviación típica utilizadas para ello se deben calcular utilizando solo el conjunto de train. Este cálculo, junto con la transformación del conjunto de train, se realiza con la función `fit_transform`. Estos valores se utilizan a su vez para escalar el conjunto de test. Se hace esto para evitar que se filtre información del conjunto de test al proceso de entrenamiento (*data leakage*)."
   ]
  },
  {
   "cell_type": "code",
   "execution_count": null,
   "id": "complimentary-reason",
   "metadata": {
    "scrolled": true
   },
   "outputs": [],
   "source": [
    "from sklearn.preprocessing import StandardScaler\n",
    "scaler = StandardScaler()\n",
    "\n",
    "X_train_scaled = pd.DataFrame(scaler.fit_transform(X_train))\n",
    "X_test_scaled = scaler.transform(X_test)\n",
    "\n",
    "display(X_train_scaled.describe())"
   ]
  },
  {
   "cell_type": "markdown",
   "id": "integrated-bradford",
   "metadata": {},
   "source": [
    "Podemos observar como ahora la media de cada variable es 0 y la desviación típica es 1. Finalmente, entrenamos y evaluamos de nuevo el modelo kNN utilizando los hiper-parámetros por defecto:"
   ]
  },
  {
   "cell_type": "code",
   "execution_count": null,
   "id": "sought-chile",
   "metadata": {},
   "outputs": [],
   "source": [
    "knn_scaled = KNeighborsClassifier()\n",
    "knn_scaled.fit(X_train_scaled, Y_train.values.ravel())\n",
    "\n",
    "knn_prediction_scaled = knn_scaled.predict(X_test_scaled)\n",
    "print('kNN accuracy (with scaled data) = {:0.3f}'.format(metrics.accuracy_score(Y_test, knn_prediction_scaled)))"
   ]
  },
  {
   "cell_type": "markdown",
   "id": "familiar-simon",
   "metadata": {},
   "source": [
    "# Decision Tree\n",
    "\n",
    "Ahora vamos a entrenar y evaluar un árbol de decisión, disponible en sklearn en `DecisionTreeClassifier` (https://scikit-learn.org/1.5/modules/generated/sklearn.tree.DecisionTreeClassifier.html). Utilizamos `random_state` para obtener siempre el mismo resultado."
   ]
  },
  {
   "cell_type": "code",
   "execution_count": null,
   "id": "missing-architecture",
   "metadata": {},
   "outputs": [],
   "source": [
    "from sklearn.tree import DecisionTreeClassifier\n",
    "\n",
    "dt = DecisionTreeClassifier(random_state = random_state)\n",
    "dt.fit(X_train, Y_train)\n",
    "\n",
    "dt_prediction = dt.predict(X_test)\n",
    "print('Decision Tree accuracy = {:0.3f}'.format(metrics.accuracy_score(Y_test, dt_prediction)))"
   ]
  },
  {
   "cell_type": "markdown",
   "id": "checked-majority",
   "metadata": {},
   "source": [
    "Una de las grandes ventajas de los árboles de decisión es que nos proporcionan un conjunto de reglas interpretables y es posible representarlos gráficamente. Vamos a comenzar por crear una representación del árbol en modo texto utilizando `tree.export_text`."
   ]
  },
  {
   "cell_type": "code",
   "execution_count": null,
   "id": "wicked-temple",
   "metadata": {},
   "outputs": [],
   "source": [
    "from sklearn import tree\n",
    "\n",
    "text_representation = tree.export_text(dt, feature_names = data.columns.drop(['diagnosis', 'id']).tolist())\n",
    "print(text_representation)"
   ]
  },
  {
   "cell_type": "markdown",
   "id": "surprising-newcastle",
   "metadata": {},
   "source": [
    "De manera similar, la función `tree.plot_tree` nos permite representar gráficamente el árbol."
   ]
  },
  {
   "cell_type": "code",
   "execution_count": null,
   "id": "macro-affect",
   "metadata": {},
   "outputs": [],
   "source": [
    "import matplotlib.pyplot as plt\n",
    "\n",
    "fig = plt.figure(figsize=(25,20))\n",
    "feature_names = data.columns.drop(['diagnosis', 'id']).tolist()\n",
    "_ = tree.plot_tree(dt, feature_names = feature_names, class_names = [\"B\", \"M\"], filled = True)"
   ]
  },
  {
   "cell_type": "markdown",
   "id": "young-welsh",
   "metadata": {},
   "source": [
    "Guardamos el árbol en la carpeta `figures` para poder analizarlo mejor (si el siguiente comando falla, crea la carpeta en la raíz del proyecto que has clonado)."
   ]
  },
  {
   "cell_type": "code",
   "execution_count": null,
   "id": "electrical-anime",
   "metadata": {},
   "outputs": [],
   "source": [
    "# fig.savefig(\"../figures/decistion_tree_1.png\")"
   ]
  },
  {
   "cell_type": "markdown",
   "id": "private-oxide",
   "metadata": {},
   "source": [
    "Vamos a representar gráficamente los valores de algunas de las variables empleadas en las decisiones iniciales del árbol, observando las diferencias entre las dos clases que queremos clasificar."
   ]
  },
  {
   "cell_type": "code",
   "execution_count": null,
   "id": "secure-level",
   "metadata": {},
   "outputs": [],
   "source": [
    "data.boxplot(column=['perimeter_worst'], by=\"diagnosis\", figsize = [6, 6])"
   ]
  },
  {
   "cell_type": "markdown",
   "id": "logical-black",
   "metadata": {},
   "source": [
    "## Controlar el sobre-entrenamiento en el árbol de decisión\n",
    "\n",
    "Si nos fijamos en el árbol anterior, vemos que tiene hojas en las que hay muy pocas muestras (o incluso una única muestra). De hecho, si mostramos el rendimiento del modelo anterior sobre el conjunto de entrenamiento vemos que este tiene un valor de 1, lo cual significa que es capaz de \"memorizar\" los datos de entrenamiento y obtener un rendimiento perfecto en el."
   ]
  },
  {
   "cell_type": "code",
   "execution_count": null,
   "id": "dependent-overview",
   "metadata": {},
   "outputs": [],
   "source": [
    "dt_prediction_train = dt.predict(X_train)\n",
    "print('Decision Tree accuracy (train) = ', metrics.accuracy_score(Y_train, dt_prediction_train))"
   ]
  },
  {
   "cell_type": "markdown",
   "id": "informative-musical",
   "metadata": {},
   "source": [
    "Esto significa que hay reglas muy específicas, creadas para adaptarse bien a los datos de entrenamiento, pero que pueden no ser lo suficientemente generales cuando se aplican a nuevos datos (sobre-entrenamiento). Hay varias maneras de controlar que el árbol crezca, configurables a través de hiper-parámetros."
   ]
  },
  {
   "cell_type": "markdown",
   "id": "happy-desire",
   "metadata": {},
   "source": [
    "Por ejemplo, el parámetro `min_samples_leaf` especifica el número mínimo de muestras que debe haber en una hoja. Esta es una manera sencilla de evitar que se creen reglas demasiado específicas. El valor por defecto es 1, así que vamos a colocar un valor relativamente alto para comprobar el efecto que tiene."
   ]
  },
  {
   "cell_type": "code",
   "execution_count": null,
   "id": "seeing-strategy",
   "metadata": {},
   "outputs": [],
   "source": [
    "dt = DecisionTreeClassifier(random_state = random_state, min_samples_leaf = 30)\n",
    "dt.fit(X_train, Y_train)\n",
    "\n",
    "dt_prediction = dt.predict(X_test)\n",
    "print('Decision Tree accuracy (test) = {:0.3f}'.format(metrics.accuracy_score(Y_test, dt_prediction)))\n",
    "\n",
    "dt_prediction_train = dt.predict(X_train)\n",
    "print('Decision Tree accuracy (train) = {:0.3f}'.format(metrics.accuracy_score(Y_train, dt_prediction_train)))"
   ]
  },
  {
   "cell_type": "markdown",
   "id": "patient-hormone",
   "metadata": {},
   "source": [
    "##### El rendimiento en cuanto a la tasa de aciertos es muy similar al del primer ejemplo (0.924 vs. 0.901), pero con un árbol mucho más sencillo. Veamos qué aspecto tiene ahora:"
   ]
  },
  {
   "cell_type": "code",
   "execution_count": null,
   "id": "differential-promise",
   "metadata": {},
   "outputs": [],
   "source": [
    "text_representation = tree.export_text(dt, feature_names = data.columns.drop(['diagnosis', 'id']).tolist())\n",
    "print(text_representation)\n",
    "\n",
    "fig = plt.figure(figsize=(25,20))\n",
    "feature_names = data.columns.drop(['diagnosis', 'id']).tolist()\n",
    "_ = tree.plot_tree(dt, feature_names = feature_names, class_names = [\"B\", \"M\"], filled = True)\n",
    "\n",
    "# fig.savefig(\"../figures/decistion_tree_2_min_leaf_samples.png\")"
   ]
  },
  {
   "cell_type": "markdown",
   "id": "tight-vegetation",
   "metadata": {},
   "source": [
    "De una manera muy simple, con este árbol de decisión es posible estimar la probabilidad de que una muestra pertenezca a una clase. Imaginemos una muestra con un valor `perimeter_worst` de 120 y un valor de `concave points_worst` de 0.06. El modelo nos lleva a la hoja con 30 muestras en la que 4 son clase `B` y 26 son clase `M`. Podríamos decir que la probabilidad de que dicha muestra sea de la clase `M` es de 26/30 (o de que sea de la clase `B` sea 4/30). \n",
    "\n",
    "Esto mismo puede obtenerse con el método `predict_proba`:"
   ]
  },
  {
   "cell_type": "code",
   "execution_count": null,
   "id": "vocal-charity",
   "metadata": {},
   "outputs": [],
   "source": [
    "dt_prediction_probabilities = dt.predict_proba(X_test)\n",
    "\n",
    "# print(dt_prediction_probabilities)\n",
    "\n",
    "print('Classes in the decision tree model: ', dt.classes_)\n",
    "print('Predictions for class M:\\n', dt_prediction_probabilities[:,1])"
   ]
  },
  {
   "cell_type": "markdown",
   "id": "adequate-relay",
   "metadata": {},
   "source": [
    "# Evaluación del rendimiento de los modelos de clasificación\n",
    "\n",
    "En este apartado vamos a ver cómo construir una matriz de confusión (https://en.wikipedia.org/wiki/Confusion_matrix) y calcular distintas métricas para evaluar el rendimiento de los modelos de clasificación.\n",
    "\n",
    "<br/>\n",
    "<div><img src=\"notebook-images/matriz.png\" width=\"800\"></div>\n",
    "\n",
    "## La matriz de confusión\n",
    "\n",
    "Comenzamos construyendo la matriz de confusión tal y como se muestra en la imagen anterior. Para hacer el cálculo, consideramos que los positivos son las muestras de la clase que nos interesa (*Malignant*) y los negativos las muestras de la otra clase (*Benignant*).\n",
    "\n",
    "Para calcular las celdas de la matriz (TP, TN, FP y FN) tenemos que comparar la clasificación real (disponible en `Y_test`) con las predicciones del clasificador (por ejemplo `dt_prediction` en el ejemplo anterior). Repetimos aquí el ejemplo para mostrar los dos arrays y calcular la tasa de aciertos (fíjate el el efecto del parámetro `normalize`):"
   ]
  },
  {
   "cell_type": "code",
   "execution_count": null,
   "id": "ordinary-karma",
   "metadata": {},
   "outputs": [],
   "source": [
    "dt = DecisionTreeClassifier(random_state = random_state, min_samples_leaf = 20)\n",
    "dt.fit(X_train, Y_train)\n",
    "dt_prediction = dt.predict(X_test)\n",
    "\n",
    "print('Clasificación real:\\n', np.asarray(Y_test['diagnosis']))\n",
    "print('\\nPredicciones:\\n', dt_prediction)\n",
    "print('\\nDecision Tree accuracy = {} ({:.03f})'.format(\n",
    "    metrics.accuracy_score(Y_test, dt_prediction, normalize = False),\n",
    "    metrics.accuracy_score(Y_test, dt_prediction, normalize = True)\n",
    "))"
   ]
  },
  {
   "cell_type": "markdown",
   "id": "effective-domestic",
   "metadata": {},
   "source": [
    "Para comparar más fácilmente estos arrays, los convertiremos a arrays binarios donde `1` representa a la clase positiva y `0` a la negativa. Observamos que podemos utilizar estos arrays binarios como valores para el método `metrics.accuracy_score`."
   ]
  },
  {
   "cell_type": "code",
   "execution_count": null,
   "id": "available-wound",
   "metadata": {},
   "outputs": [],
   "source": [
    "pred_y = (dt_prediction == \"M\").astype(int)\n",
    "true_y = np.transpose(np.asarray(Y_test[['diagnosis']]) == \"M\").astype(int).flatten()\n",
    "\n",
    "print('Decision Tree accuracy = {:0.3f}'.format(metrics.accuracy_score(true_y, pred_y)))\n",
    "\n",
    "display(pred_y)"
   ]
  },
  {
   "cell_type": "markdown",
   "id": "patient-tracy",
   "metadata": {},
   "source": [
    "<div><img src=\"notebook-images/pregunta-icono.png\"></div>\n",
    "\n",
    "<span style=\"color:blue\">**Ejercicio**) </span>Y ahora, utilizando comparaciones lógicas entre los arrays, calculamos TP, TN, FP y FN:"
   ]
  },
  {
   "cell_type": "code",
   "execution_count": null,
   "id": "fleet-porter",
   "metadata": {},
   "outputs": [],
   "source": [
    "true_positive = (true_y==1) & (pred_y==1)\n",
    "print(\"TP = \", true_positive.sum())\n",
    "\n",
    "## Ejercicio: calcula los arrays true_negative, false_positive y false_negative.\n"
   ]
  },
  {
   "cell_type": "markdown",
   "id": "civic-carrier",
   "metadata": {},
   "source": [
    "Con estos valores, construimos la matriz de confusión. Seguimos el estilo visto en teoría y en Wikipedia, por el que situamos en columnas las clases reales y en filas las predicciones."
   ]
  },
  {
   "cell_type": "code",
   "execution_count": null,
   "id": "quick-sixth",
   "metadata": {},
   "outputs": [],
   "source": [
    "cm = pd.DataFrame({\n",
    "    'M (Actual)': [true_positive.sum(), false_negative.sum()], \n",
    "    'B (Actual)': [false_positive.sum(), true_negative.sum()]\n",
    "})\n",
    "\n",
    "cm.index = ['M (Predicted)', 'B (Predicted)']\n",
    "\n",
    "display(cm)"
   ]
  },
  {
   "cell_type": "markdown",
   "id": "direct-volume",
   "metadata": {},
   "source": [
    "Ahora sabemos construir manualmente la matriz de confusión, aunque como es natural, la librería sklearn dispone de una función para construir la matriz de confusión a partir de los arrays de clases reales y predicciones. Dicha función es `confusion_matrix` (https://scikit-learn.org/1.5/modules/generated/sklearn.metrics.confusion_matrix.html):"
   ]
  },
  {
   "cell_type": "code",
   "execution_count": null,
   "id": "speaking-buying",
   "metadata": {},
   "outputs": [],
   "source": [
    "display(metrics.confusion_matrix(Y_test, dt_prediction))"
   ]
  },
  {
   "cell_type": "markdown",
   "id": "practical-detroit",
   "metadata": {},
   "source": [
    "Como podemos ver, la matriz no es exactamente igual a la que construimos manualmente, filas y columnas están permutadas. Esto es por dos motivos:\n",
    "- Por defecto, las etiquetas se muestran en orden alfabético. Lo solucionamos pasando el parámetro `labels`.\n",
    "- sklearn muestra en filas las clases reales y en columnas las predicciones. Al solucionar el problema de las etiquetas, tendremos los TP y TN en la misma posición, pero FP y FN permutados con respecto a la matriz construida manualmente."
   ]
  },
  {
   "cell_type": "code",
   "execution_count": null,
   "id": "serious-priest",
   "metadata": {},
   "outputs": [],
   "source": [
    "cm_sklearn = metrics.confusion_matrix(Y_test, dt_prediction, labels = [\"M\", \"B\"])\n",
    "\n",
    "display(cm_sklearn)"
   ]
  },
  {
   "cell_type": "markdown",
   "id": "naked-picnic",
   "metadata": {},
   "source": [
    "Con la función `ravel` de numpy (https://numpy.org/doc/stable/reference/generated/numpy.ravel.html) podemos extraer los valores de las celdas para utilizar en otros cálculos:"
   ]
  },
  {
   "cell_type": "code",
   "execution_count": null,
   "id": "recorded-exemption",
   "metadata": {},
   "outputs": [],
   "source": [
    "tp, fn, fp, tn = cm_sklearn.ravel()\n",
    "\n",
    "print(\"TP = \", tp)\n",
    "print(\"TN = \", tn)\n",
    "print(\"FP = \", fp)\n",
    "print(\"FN = \", fn)"
   ]
  },
  {
   "cell_type": "markdown",
   "id": "removed-poland",
   "metadata": {},
   "source": [
    "## Métricas de rendimiento\n",
    "\n",
    "Utilizando estos cuatro valores, podemos calcular las métricas de rendimiento que hemos visto anteriormente. Por ejemplo, la tasa de aciertos:"
   ]
  },
  {
   "cell_type": "code",
   "execution_count": null,
   "id": "studied-revelation",
   "metadata": {},
   "outputs": [],
   "source": [
    "accuracy = (tp + tn) / (tp + fp + fn + tn)\n",
    "\n",
    "print('accuracy = {:.03f}'.format(accuracy))"
   ]
  },
  {
   "cell_type": "markdown",
   "id": "bound-nepal",
   "metadata": {},
   "source": [
    "<div><img src=\"notebook-images/pregunta-icono.png\"></div>\n",
    "\n",
    "<span style=\"color:blue\">**Ejercicio)**</span> Calculamos las siguientes métricas:\n",
    "- Recall or Sensitivity: *proportion of positive samples (\"M\") that are identified correctly (True Positive Rate)*.\n",
    "- Specificity: *proportion of negative samples (\"B\") that are identified correctly (True Negative Rate)*.\n",
    "- Precision or Predictive Positive Value (PPV): *proportion of samples predicted as positive (\"M\") that are actually positive*.\n",
    "- Negative Predictive Value (NPV): *proportion of samples precicted as negative (\"B\") that are actually negative*."
   ]
  },
  {
   "cell_type": "code",
   "execution_count": null,
   "id": "decimal-intersection",
   "metadata": {},
   "outputs": [],
   "source": [
    "## Ejercicio: calcula las métricas recall (sensitivity), specificity, precision (PPV) y NPV utilizando los valores calculados anteriormente (tp, tn, fp, fn).\n"
   ]
  },
  {
   "cell_type": "markdown",
   "id": "attached-guess",
   "metadata": {},
   "source": [
    "De nuevo, sklearn incorpora funciones en el paquete `metrics` para calcular estos valores y una función `classification_report` que muestra varias métricas.\n",
    "\n",
    "<div><img src=\"notebook-images/pregunta-icono.png\"></div>\n",
    "\n",
    "<span style=\"color:blue\">**Ejercicio)**</span> Utiliza la función `classification_report` e interpreta los resultados."
   ]
  },
  {
   "cell_type": "code",
   "execution_count": null,
   "id": "flying-spank",
   "metadata": {},
   "outputs": [],
   "source": [
    "## Ejercicio: utiliza la función classification_metrics e interpreta los resultados.\n"
   ]
  },
  {
   "cell_type": "markdown",
   "id": "western-exclusive",
   "metadata": {},
   "source": [
    "<div><img src=\"notebook-images/pregunta-icono.png\"></div>\n",
    "\n",
    "<span style=\"color:blue\">**Pregunta)**</span> ¿Por qué solo aparecen recall y precision y hay dos valores para cada una?."
   ]
  },
  {
   "attachments": {
    "f1.png": {
     "image/png": "[encoded data removed]"
    }
   },
   "cell_type": "markdown",
   "id": "computational-review",
   "metadata": {},
   "source": [
    "En este reporte, el F1-score es una media harmónica de precision y recall:\n",
    "\n",
    "![f1.png](attachment:f1.png)"
   ]
  },
  {
   "cell_type": "markdown",
   "id": "covered-jordan",
   "metadata": {},
   "source": [
    "## Curvas ROC\n",
    "\n",
    "Es frecuente el uso de curvas ROC (acrónimo de Receiver Operating Characteristic) a la hora de evaluar el rendimiento diagnóstico de, por ejemplo, un biomarcador. Estas curvas proporcionan una representación gráfica de la sensibilidad frente a la especificidad para un sistema clasificador binario según se varía el umbral de discriminación. Para un biomarcador, el umbral de discriminación es el valor en el que establecemos el corte para determinar qué muestras son positivas y qué muestras son negativas."
   ]
  },
  {
   "cell_type": "markdown",
   "id": "drawn-speech",
   "metadata": {},
   "source": [
    "<div><img src=\"notebook-images/pregunta-icono.png\"></div>\n",
    "\n",
    "<span style=\"color:blue\">**Ejercicio)**</span> Si tuviésemos el siguiente biomarcador y 12 muestras (6 positivas y 6 negativas) distribuídas de la siguiente manera, calcula el rendimiento si se aplicasen los tres umbrales indicados para clasificar todas las muestras que quedan por encima como positivas y las que quedan por debajo como negativas (usando por ejemplo la función `metrics.classification_report` que vimos anteriormente).\n",
    "\n",
    "<div><img src=\"notebook-images/biomarker.png\"></div>"
   ]
  },
  {
   "cell_type": "code",
   "execution_count": null,
   "id": "executive-myrtle",
   "metadata": {},
   "outputs": [],
   "source": [
    "## Ejercicio: calcula las métricas recall (sensitivity), specificity, precision (PPV) que se obtendría en cada uno de los tres cortes\n",
    "\n"
   ]
  },
  {
   "cell_type": "markdown",
   "id": "bronze-jaguar",
   "metadata": {},
   "source": [
    "En el caso de los clasificadores, podríamos utilizar las predicciones de probabilidad para realizar el mismo análisis y obtener todas las combinaciones sensibilidad-especificidad a medida que se varía el umbral.\n",
    "\n",
    "A la hora de crear la curva ROC, se utilizan dichas combinaciones de manera que en el eje Y se representa la sensibilidad (o *True Positive Rate*) y el eje X se representa 1-especificidad (o *False Positive Rate*). Cada punto de la curva representa una combinación de sensibilidad y especificidad asociada a un umbral determinado.\n",
    "\n",
    "En sklearn podemos utilizar la función `RocCurveDisplay.from_estimator` (https://scikit-learn.org/stable/modules/generated/sklearn.metrics.RocCurveDisplay.html) para ello cuando tenemos un modelo ya entrenado (la variable `dt` en este caso):"
   ]
  },
  {
   "cell_type": "code",
   "execution_count": null,
   "id": "lovely-profit",
   "metadata": {},
   "outputs": [],
   "source": [
    "from sklearn.metrics import RocCurveDisplay\n",
    "\n",
    "RocCurveDisplay.from_estimator(dt, X_test, Y_test)"
   ]
  },
  {
   "cell_type": "markdown",
   "id": "d3b19063",
   "metadata": {},
   "source": [
    "O, si partimos de las predicciones, como en el caso del biomarcador de ejercicio, podríamos utilizar la función `RocCurveDisplay.from_predictions`:"
   ]
  },
  {
   "cell_type": "code",
   "execution_count": null,
   "id": "2c98526a",
   "metadata": {},
   "outputs": [],
   "source": [
    "Y_test_biomarker = [1, 1, 1, 1,    1, 0, 1, 0,    0, 0, 0, 0]\n",
    "pred_1 = [1, 1, 1, 1,    0, 0, 0, 0,    0, 0, 0, 0]\n",
    "\n",
    "RocCurveDisplay.from_predictions(Y_test_biomarker, pred_1)"
   ]
  },
  {
   "cell_type": "markdown",
   "id": "optical-torture",
   "metadata": {},
   "source": [
    "En este gráfico aparece una leyenda con la medida AUC (Area Under the Curve). Esta medida representa el área que existe bajo la curva ROC. Cuanto más grande sea este valor, más efectivo será el clasificador. El valor máximo es 1, que indica que el clasificador es perfecto (clasifica correctamente todas las muestras de la clase positiva y no produce falsos positivos). Un clasificador inútil tendría un AUC de 0.5 y su curva ROC sería la diagonal.\n",
    "\n",
    "El AUC tiene, además, una [interpretación probabilística](http://madrury.github.io/jekyll/update/statistics/2017/06/21/auc-proof.html): representa la probabilidad de que el modelo, dadas dos muestras al azar, una positiva y una negativa, asigne a la positiva una puntuación superior a la negativa."
   ]
  },
  {
   "cell_type": "markdown",
   "id": "soviet-pipeline",
   "metadata": {},
   "source": [
    "<div><img src=\"notebook-images/pregunta-icono.png\"></div>\n",
    "\n",
    "<span style=\"color:blue\">**Ejercicio)**</span> Utiliza la función `metrics.roc_curve` ([más información aquí](https://scikit-learn.org/1.5/modules/generated/sklearn.metrics.roc_curve.html#sklearn.metrics.roc_curve)) para obtener los valores de los ejes X e Y del gráfico anterior. Para llamar a esta función necesitas el array binario con las clases reales y las predicciones de probabilidad para la clase positiva (pista: `dt_prediction_probabilities`)."
   ]
  },
  {
   "cell_type": "code",
   "execution_count": null,
   "id": "regular-animal",
   "metadata": {},
   "outputs": [],
   "source": [
    "## Ejercicio: utiliza la función metrics.roc_curve para obtener los valores de los ejes X e Y de la curva ROC (sensibilidad y 1-especificidad).\n",
    "# Construye un dataframe con los valores de los ejes X e Y y los umbrales.\n"
   ]
  },
  {
   "cell_type": "markdown",
   "id": "4065de8a",
   "metadata": {},
   "source": [
    "¿Qué criterio usaríamos para decidir el punto de corte óptimo? Una manera habitual es escoger aquel umbral que maximize el resultado (tpr - fpr). Este punto óptimo es el índice de Youden, una métrica empleada que combina sensibilidad y especificidad: Youden = tpr - fpr = sensibilidad - (1- especificidad) = sensibilidad + especificidad - 1.\n",
    "\n",
    "<div><img src=\"notebook-images/pregunta-icono.png\"></div>\n",
    "\n",
    "<span style=\"color:blue\">**Ejercicio)**</span> Añade una columna al dataframe anterior con el cálculo de cada Youden. Calcula además el Youden a partir de los valores de la clasificación binaria (disponibles en las variables `true_y` y `pred_y`; para esto tendrás que usar la función `recall_score` dos veces)."
   ]
  },
  {
   "cell_type": "code",
   "execution_count": null,
   "id": "c9f48a39",
   "metadata": {},
   "outputs": [],
   "source": [
    "## Ejercicio: añade al dataframe anterior una columna con la diferencia entre tpr y fpr y busca el umbral que la maximiza.\n"
   ]
  },
  {
   "cell_type": "markdown",
   "id": "danish-analysis",
   "metadata": {},
   "source": [
    "# Validación cruzada (**Cross-validation**)\n",
    "\n",
    "Hasta ahora venimos utilizando una parte de los datos para entrenar (train) y otra para evaluar el rendimiento del modelo (test), lo que se conozce como *holdout*. \n",
    "\n",
    "Sin embargo, esto puede ser un problema cuando queremos evaluar el rendimiento de varios modelos y escoger el mejor (el que tenga un rendimiento más prometedor). Puede tratarse de distintos modelos (un kNN, un árbol de decisión, una red neuronal, etc.) o el mismo modelo con distintos hiper-parámetros.\n",
    "\n",
    "Por ejemplo, seleccionamos un modelo y vamos ajustando sus hiper-parámetros y evaluando el rendimiento con la misma partición test. Al final, habremos seleccionado el modelo que mejor rendimiento tiene en esa partición concreta de test, pero puede que no tenga tan buen rendimiento cuando se presenten nuevos datos. Esto se conoce como sobre-entrenamiento al conjunto de test, porque estamos optimizando los parámetros para que tengan el mejor rendimiento con un conjunto de test concreto.\n",
    "\n",
    "Una estrategia habitual para solventar este problema es utilizar la validación cruzada. En este caso, el conjunto de datos disponible se divide en K particiones diferentes, de manera que se pueden crear K particiones train y test diferentes.\n",
    "\n",
    "<br/>\n",
    "<div>\n",
    "<img src=\"notebook-images/validacion-cruzada.png\" width=\"700\">\n",
    "</div>\n",
    "\n",
    "Vamos a ver cómo realizar la validación cruzada en sklearn (https://scikit-learn.org/1.5/modules/cross_validation.html). Realizaremos esta validación cruzada sobre las particiones `X_train` e `Y_train` creadas anteriormente, de manera que seguimos reservando `X_test` e `Y_test`. De esta manera estaríamos respetando el flujo de trabajo habitual que consiste en reservar una parte de los datos para *test* y utilizar la otra para *desarrollo* (en este caso el desarrollo será la aplicación de validaciones cruzadas para comparar modelos y seleccionar uno).\n",
    "\n",
    "## `cross_val_score`\n",
    "\n",
    "La primera manera es utilizar la función `cross_val_score` (https://scikit-learn.org/1.5/modules/generated/sklearn.model_selection.cross_val_score.html). Como se puede ver, esta función recibe un modelo, los conjuntos de datos X (variables predictoras) e Y (variable objetivo) y:\n",
    "- `cv`: que indica el número de folds que se quieren crear.\n",
    "- `scoring`: que indica la métrica que se quiere evaluar. La función `cross_val_score` solo permite evaluar una métrica al mismo tiempo."
   ]
  },
  {
   "cell_type": "code",
   "execution_count": null,
   "id": "induced-payment",
   "metadata": {},
   "outputs": [],
   "source": [
    "from sklearn.model_selection import cross_val_score\n",
    "\n",
    "dt_cv = DecisionTreeClassifier(random_state = random_state, min_samples_leaf = 20)\n",
    "\n",
    "accuracies = cross_val_score(dt_cv, X_train, Y_train, cv = 5, scoring = 'accuracy')\n",
    "print('accuracies at the five folds:\\n', accuracies)"
   ]
  },
  {
   "cell_type": "markdown",
   "id": "accomplished-count",
   "metadata": {},
   "source": [
    "El array `accuracies` contendrá por lo tanto los valores de la tasa de aciertos en cada una de las 5 particiones de la validación cruzada.\n",
    "\n",
    "A modo de ejemplo, si quisiéramos utilizar una métrica como `precision` (PPV), en principio haríamos lo siguiente:"
   ]
  },
  {
   "cell_type": "code",
   "execution_count": null,
   "id": "proof-nerve",
   "metadata": {},
   "outputs": [],
   "source": [
    "precisions = cross_val_score(dt_cv,  X_train, Y_train, cv=5, scoring = 'precision')"
   ]
  },
  {
   "cell_type": "markdown",
   "id": "sporting-walter",
   "metadata": {},
   "source": [
    "Sin embargo, obtenemos el error *pos_label=1 is not a valid label. It should be one of ['B', 'M']*. Este error se produce porque la métrica `precision` asume que la etiqueta que se encontrará en el array `Y` para la clase positiva es `1`, cuando en nuestro caso tenemos *B* o *M*. Tenemos dos opciones:\n",
    "1. Como vimos antes, es posible indicar esta etiqueta con el parámetro `pos_label`. y para combinar esta métrica con la evaluación de la validación cruzada es necesario definir un `make_scorer` del siguiente modo:"
   ]
  },
  {
   "cell_type": "code",
   "execution_count": null,
   "id": "acting-dover",
   "metadata": {},
   "outputs": [],
   "source": [
    "from sklearn.metrics import make_scorer\n",
    "from sklearn.metrics import precision_score\n",
    "\n",
    "custom_scorer = make_scorer(precision_score, pos_label = 'M')\n",
    "\n",
    "precisions = cross_val_score(dt_cv, X_train, Y_train, cv = 5, scoring = custom_scorer)\n",
    "print('precisions at the five folds:\\n', precisions)"
   ]
  },
  {
   "cell_type": "markdown",
   "id": "judicial-issue",
   "metadata": {},
   "source": [
    "2. Podemos convertir el array Y en un array binario utilizando `LabelBinarizer` (https://scikit-learn.org/1.5/modules/generated/sklearn.preprocessing.LabelBinarizer.html):"
   ]
  },
  {
   "cell_type": "code",
   "execution_count": null,
   "id": "material-formula",
   "metadata": {},
   "outputs": [],
   "source": [
    "from sklearn import preprocessing\n",
    "\n",
    "lb = preprocessing.LabelBinarizer()\n",
    "\n",
    "lb.fit(['M', 'B'])\n",
    "\n",
    "print(lb.classes_)\n",
    "print(lb.transform(['B', 'B', 'M', 'B']))\n",
    "\n",
    "# En caso de necesitar '1' a las cadenas 'B', se podría hacer lo siguiente:\n",
    "# lb.classes_ = ['M', 'B']\n",
    "# print(lb.classes_)\n",
    "# print(lb.transform(['B', 'B', 'M', 'B']))"
   ]
  },
  {
   "cell_type": "markdown",
   "id": "three-summit",
   "metadata": {},
   "source": [
    "Ahora que hemos comprobado cómo funciona, convertimos Y a un array binario y obtenemos de nuevo la validación cruzada:"
   ]
  },
  {
   "cell_type": "code",
   "execution_count": null,
   "id": "suburban-directory",
   "metadata": {},
   "outputs": [],
   "source": [
    "Y_train_binary = lb.transform(Y_train)\n",
    "\n",
    "precisions = cross_val_score(dt_cv, X_train, Y_train_binary, cv = 5, scoring = 'precision')\n",
    "print('precisions at the five folds:\\n', precisions)"
   ]
  },
  {
   "cell_type": "markdown",
   "id": "lightweight-enterprise",
   "metadata": {},
   "source": [
    "## `cross_validate`\n",
    "\n",
    "La principal diferencia de la función `cross_validate` (https://scikit-learn.org/1.5/modules/generated/sklearn.model_selection.cross_validate.html#sklearn.model_selection.cross_validate) con respecto a la anterior es que permite evaluar varias métricas al mismo tiempo, algo que es muy habitual. A modo de ejemplo, calcularemos las tres métricas anteriores en un solo paso (utilizamos el array `Y_binary`):"
   ]
  },
  {
   "cell_type": "code",
   "execution_count": null,
   "id": "clinical-cameroon",
   "metadata": {},
   "outputs": [],
   "source": [
    "from sklearn.model_selection import cross_validate\n",
    "\n",
    "scoring = ['accuracy', 'recall', 'precision']\n",
    "\n",
    "dt_cv = DecisionTreeClassifier(random_state = random_state, min_samples_leaf = 20)\n",
    "cross_validate_scores = cross_validate(dt_cv, X_train, Y_train_binary, cv=5, scoring=scoring)\n",
    "\n",
    "print(sorted(cross_validate_scores.keys()))\n",
    "\n",
    "print('Accuracy: ', cross_validate_scores['test_accuracy'])\n",
    "print('Precision: ', cross_validate_scores['test_precision'])\n",
    "print('Recall: ', cross_validate_scores['test_recall'])"
   ]
  },
  {
   "cell_type": "markdown",
   "id": "brave-cooking",
   "metadata": {},
   "source": [
    "## Escalado de datos y validación cruzada\n",
    "\n",
    "<div><img src=\"notebook-images/pregunta-icono.png\"></div>\n",
    "\n",
    "<span style=\"color:blue\">**Pregunta)**</span> Teniendo en cuenta que para kNN necesitamos escalar los datos: ¿cómo y cuándo escalarías los datos para hacer una validación cruzada?.\n",
    "\n",
    "## Aplicar transformaciones separadas a los datos de train y test\n",
    "\n",
    "En sklearn, un `Pipeline` (https://scikit-learn.org/1.5/modules/generated/sklearn.pipeline.Pipeline.html#sklearn.pipeline.Pipeline) permite aplicar una serie de pasos o transformaciones, siendo el paso final un modelo de clasificación. Puedes encontrar más información sobre los pipelines aquí: https://scikit-learn.org/1.5/modules/compose.html#combining-estimators\n",
    "\n",
    "En el caso anterior, querríamos tener un pipeline con dos pasos, uno para el escalado y otro para el modelo de clasificación. Al integrar el pipeline en la validación cruzada, en cada partición de entrenamiento se aplicarían los dos pasos: escalado (que implica calcular la media y desviación típica) y entrenamiento de modelo. Luego, el objeto de escalado se aplicaría a la partición de test correspondiente, cuyo resultado se utilizaría para evaluar el rendimiento del modelo."
   ]
  },
  {
   "cell_type": "code",
   "execution_count": null,
   "id": "prerequisite-malpractice",
   "metadata": {},
   "outputs": [],
   "source": [
    "from sklearn.pipeline import make_pipeline\n",
    "\n",
    "pipeline = make_pipeline(\n",
    "    preprocessing.StandardScaler(),\n",
    "    DecisionTreeClassifier(random_state = random_state, min_samples_leaf = 20)\n",
    ")\n",
    "\n",
    "cross_validate_scores = cross_validate(pipeline, X_train, Y_train_binary, cv=5, scoring=scoring)\n",
    "\n",
    "print(sorted(cross_validate_scores.keys()))\n",
    "\n",
    "print(\"Accuracy: \", cross_validate_scores['test_accuracy'])\n",
    "print(\"Precision: \", cross_validate_scores['test_precision'])\n",
    "print(\"Recall: \", cross_validate_scores['test_recall'])"
   ]
  },
  {
   "cell_type": "markdown",
   "id": "premier-challenge",
   "metadata": {},
   "source": [
    "# Buscar los mejores hiper-parámetros de un modelo\n",
    "\n",
    "Como vimos antes con los árboles de decisión, es importante ajustar los hiper-parámetros del modelo de cara a prevenir el overfitting y obtener un buen rendimiento. ¿Cómo escogemos estos hiper-parámetros? Una estrategia habitual es la siguiente:\n",
    "- Dividir el conjunto de datos en train y test.\n",
    "- Definir el conjunto de hiper-parámetros que queremos ajustar. Por ejemplo, `criterion`, `min_samples_leaf` y `max_depth` en el caso del árbol de decisión.\n",
    "- Definir el rango de valores de cada hiper-parámetro que queremos probar. Por ejemplo, para `min_samples_leaf` probaremos los valores 2, 4, 6, 8 y 10.\n",
    "- Evaluar cada combinación utilizando una validación cruzada sobre la partición de train. Fíjate en que esta partición de train será dividida, a su vez, en varias folds al realizar la validación cruzada para formar K combinaciones train-validation.\n",
    "- Evaluar el rendimiento final del modelo más prometedor utilizando la partición de test. Para esto, se entrena el modelo con la mejor combinación de parámetros utilizando todos los datos de train.\n",
    "    \n",
    "La clase `GridSearchCV` de sklearn permite llevar a cabo esta estrategia (https://scikit-learn.org/1.5/modules/generated/sklearn.model_selection.GridSearchCV.html). Puedes encontrar más información acerca de esta estrategia aquí: https://scikit-learn.org/1.5/modules/grid_search.html. La clase `GridSearchCV` realiza una CV de 5 folds, que es el valor por defecto.\n",
    "\n",
    "A continuación, vemos cómo se llevaría a cabo en sklearn la búsqueda de hiper-parámetros descrita para un árbol de decisión:"
   ]
  },
  {
   "cell_type": "code",
   "execution_count": null,
   "id": "designing-panama",
   "metadata": {},
   "outputs": [],
   "source": [
    "from sklearn.tree import DecisionTreeClassifier\n",
    "from sklearn.model_selection import GridSearchCV\n",
    "\n",
    "parameters = {\n",
    "    'criterion': ['gini', 'entropy'],\n",
    "    'min_samples_leaf': [2, 4, 6, 8, 10],\n",
    "    'max_depth': [3, 5, 8, 12, 16]\n",
    "}\n",
    "\n",
    "dt = DecisionTreeClassifier(random_state = random_state)\n",
    "\n",
    "grid_search = GridSearchCV(dt, parameters, scoring = 'accuracy')\n",
    "\n",
    "grid_search.fit(X_train, Y_train)"
   ]
  },
  {
   "cell_type": "markdown",
   "id": "expressed-sister",
   "metadata": {},
   "source": [
    "Al acabar el proceso, en la variable `best_params_` tenemos disponible la mejor combinación, es decir, la que obtiene un mayor rendimiento en la validación cruzada:"
   ]
  },
  {
   "cell_type": "code",
   "execution_count": null,
   "id": "nearby-piano",
   "metadata": {},
   "outputs": [],
   "source": [
    "print('La mejor de combinación de parámetros es:', grid_search.best_params_)\n",
    "\n",
    "print('\\nY su rendimiento es: {:0.3f}'.format(grid_search.best_score_))"
   ]
  },
  {
   "cell_type": "markdown",
   "id": "piano-qualification",
   "metadata": {},
   "source": [
    "Si nos fijamos en la documentación, vemos que el parámetro `refit` de `GridSearchCV` tiene el valor `True` por defecto. Esto significa que se construye un modelo utilzando todos los datos con la combinación de parámetros que mejor rendimiento haya tenido en la validación cruzada. Dicho modelo se encuentra en `best_estimator_` y podemos utilizarlo directamente para evaluar el rendimiento con los datos que habíamos dejado sin utilizar en la partición de test (`X_test`)."
   ]
  },
  {
   "cell_type": "code",
   "execution_count": null,
   "id": "announced-cancer",
   "metadata": {},
   "outputs": [],
   "source": [
    "dt_prediction_gscv = grid_search.predict(X_test)\n",
    "print('Best Decision Tree accuracy = {:0.3f}'.format(metrics.accuracy_score(dt_prediction_gscv, Y_test)))"
   ]
  },
  {
   "cell_type": "markdown",
   "id": "aware-authentication",
   "metadata": {},
   "source": [
    "Como dijimos antes, por defecto la clase `GridSearchCv` realiza una validación cruzada de 5 folds. Además, por defecto, hará las particiones teniendo en cuenta el balanceo ya que utiliza un objeto de la clase `StratifiedKFold` con el número de folds especificadas para ello.\n",
    "\n",
    "Si queremos indicar que haga las particiones de cualquier otra manera sería necesario usar el parámetro `cv` para pasar un objeto de la clase adecuada. Existen diversas clases de `sklearn` para controlar este proceso y, por ejemplo, podríamos usar `StratifiedKFold` con 5 particiones y utilizando una semilla para garantizar que siempre se realizan las mismas particiones."
   ]
  },
  {
   "cell_type": "code",
   "execution_count": null,
   "id": "important-connecticut",
   "metadata": {},
   "outputs": [],
   "source": [
    "from sklearn.model_selection import StratifiedKFold\n",
    "\n",
    "cv = StratifiedKFold(n_splits = 5,random_state = random_state, shuffle = True)\n",
    "\n",
    "from sklearn.tree import DecisionTreeClassifier\n",
    "from sklearn.model_selection import GridSearchCV\n",
    "\n",
    "parameters = {\n",
    "    'criterion': ['gini', 'entropy'],\n",
    "    'min_samples_leaf': [2, 4, 6, 8, 10],\n",
    "    'max_depth': [3, 5, 8, 12, 16]\n",
    "}\n",
    "\n",
    "dt = DecisionTreeClassifier(random_state = random_state)\n",
    "\n",
    "grid_search = GridSearchCV(dt, parameters, scoring = 'accuracy', cv = cv)\n",
    "\n",
    "grid_search.fit(X_train, Y_train)\n",
    "\n",
    "print('La mejor de combinación de parámetros es:', grid_search.best_params_)\n",
    "\n",
    "print('\\nY su rendimiento es: {:0.3f}'.format(grid_search.best_score_))\n",
    "\n",
    "dt_prediction_gscv = grid_search.predict(X_test)\n",
    "print('Best Decision Tree accuracy = {:0.3f}'.format(metrics.accuracy_score(dt_prediction_gscv, Y_test)))"
   ]
  },
  {
   "cell_type": "markdown",
   "id": "ac788522-ffc6-41ce-8f4b-657bb7297042",
   "metadata": {},
   "source": [
    "<div><img src=\"notebook-images/pregunta-icono.png\"></div>\n",
    "\n",
    "<span style=\"color:blue\">**Ejercicio)**</span> Utiliza `GridSearchCV` para encontrar la mejor combinación de parámetros de un kNN. Puedes probar los parámetros `n_neighbors` y `weights`. Ten en cuenta que debes escalar los datos, tal y como vimos en el apartado de la validación cruzada, por lo que tendrás que crear un `Pipeline` y pasárselo a la `GridSearchCV` que utilices."
   ]
  },
  {
   "cell_type": "code",
   "execution_count": null,
   "id": "parliamentary-logan",
   "metadata": {},
   "outputs": [],
   "source": [
    "## Ejercicio: utiliza GridSearchCV para encontrar la mejor combinación de parámetros de un kNN\n"
   ]
  },
  {
   "cell_type": "markdown",
   "id": "helpful-bachelor",
   "metadata": {},
   "source": [
    "En aquellos casos en que esta búsqueda exahustiva sea muy costosa (hay muchos valores de parámetros, cada modelo tarda mucho tiempo en entrenar, etc.) puede utilizarse una búsqueda aleatoria (https://scikit-learn.org/1.5/modules/grid_search.html#randomized-parameter-optimization). En su lugar se utilizaría un objeto de la clase `RandomizedSearchCV` (https://scikit-learn.org/1.5/modules/generated/sklearn.model_selection.RandomizedSearchCV.html#sklearn.model_selection.RandomizedSearchCV) al que se le indican los posibles rangos de interés de cada parámetro, en lugar del conjunto fijo de valores a explorar."
   ]
  },
  {
   "attachments": {
    "imagen.png": {
     "image/png": "[encoded data removed]"
    }
   },
   "cell_type": "markdown",
   "id": "checked-breathing",
   "metadata": {},
   "source": [
    "# Curvas de aprendizaje\n",
    "\n",
    "Cuando hablamos de overfitting mostramos unas curvas de aprendizaje en función de varios parámetros, como por ejemplo la tasa de error frente a tamaño del dataset.\n",
    "\n",
    "![imagen.png](attachment:imagen.png)\n",
    "\n",
    "En este caso, con muy pocos datos de entrenamiento la tasa de error en el conjunto de entrenamiento sería muy baja (buen rendimiento) y alta con los datos de test (bajo rendimiento). A medida que se entrenan modelos con más datos, el rendimiento en entrenamiento baja y en test sube, de manera que se van acercando.\n",
    "\n",
    "Si hemos recopilado un dataset y el rendimiento aún no es el esperado, antes de plantearnos recopilar más datos, podríamos hacer una curva de aprendizaje en función del tamaño del dataset. A continuación se muestra como realizar una curva de aprendizaje con diferentes tamaños del dataset usando la función `learning_curve` (https://scikit-learn.org/1.5/modules/learning_curve.html#learning-curve). En este caso se utiliza el árbol de decisión anterior (se podría usar cualquier modelo de sklearn). Esta función devuelve los valores que permiten dibujar la curva de aprendizaje con la función `plot_learning_curve` que se define (cuyo código es una adaptación de [esta entrada de blog](https://vitalflux.com/learning-curves-explained-python-sklearn-example/))."
   ]
  },
  {
   "cell_type": "code",
   "execution_count": null,
   "id": "df793942-c196-4549-a72c-fa1d2cfc5084",
   "metadata": {},
   "outputs": [],
   "source": [
    "from sklearn.model_selection import learning_curve\n",
    "from sklearn.tree import DecisionTreeClassifier\n",
    "\n",
    "estimator = DecisionTreeClassifier(random_state = random_state, min_samples_leaf = 20)\n",
    "\n",
    "train_sizes = np.linspace(0.2, 1.0, 15)\n",
    "print('Learning curves on this training size proportions of the available data: ', train_sizes)\n",
    "\n",
    "train_sizes, train_scores, test_scores = learning_curve(\n",
    "    estimator = estimator, X = X_train, y = Y_train, cv = 5, train_sizes = train_sizes, n_jobs=-11\n",
    ")\n",
    "\n",
    "def plot_learning_curve(train_sizes, train_scores, test_scores):\n",
    "    import matplotlib.pyplot as plt\n",
    "\n",
    "    # Calculate training and test mean and std\n",
    "    train_scores = 1-train_scores\n",
    "    test_scores = 1-test_scores\n",
    "\n",
    "    train_mean = np.mean(train_scores, axis=1)\n",
    "    train_std = np.std(train_scores, axis=1)\n",
    "    test_mean = np.mean(test_scores, axis=1)\n",
    "    test_std = np.std(test_scores, axis=1)\n",
    "    \n",
    "    # Plot the learning curve\n",
    "\n",
    "    plt.plot(train_sizes, train_mean, color='green', marker='o', markersize=5, label='Training Error (1-accuracy)')\n",
    "    plt.fill_between(train_sizes, train_mean + train_std, train_mean - train_std, alpha=0.15, color='green')\n",
    "    plt.plot(train_sizes, test_mean, color='blue', marker='+', markersize=5, linestyle='--', label='Validation Error (1-accuracy)')\n",
    "    plt.fill_between(train_sizes, test_mean + test_std, test_mean - test_std, alpha=0.15, color='blue')\n",
    "    plt.title('Learning Curve')\n",
    "    plt.xlabel('Training Data Size')\n",
    "    plt.ylabel('Error (1-accuracy)')\n",
    "    plt.grid()\n",
    "    plt.legend(loc='lower right')\n",
    "\n",
    "plot_learning_curve(train_sizes, train_scores, test_scores)"
   ]
  },
  {
   "cell_type": "markdown",
   "id": "228abccf",
   "metadata": {},
   "source": [
    "# Datasets desbalanceados\n",
    "\n",
    "En la práctica es habitual encontrarse con datasets desbalanceados, para lo cual debemos:\n",
    "- Utilizar métricas de rendimiento adecuadas como MCC, *balanced accuracy*, Kappa, etc.\n",
    "- Tener en cuenta los datos con los que trabajamos y:\n",
    "  1. Obtener más muestras de las clases minoritarias si es posible.\n",
    "  2. Aplicar métodos de muestreo para balancear el número de muestras en cada clase (solo a los datos de entrenamiento).\n",
    "\n",
    "En este sentido, cabe mencionar que existe una librería (basada en scikit-learn) que implementa algunas técnicas específicas (como SMOTE, Synthetic Minority Oversampling Technique, entre otras). Dicha librería se llama `imbalanced-learn` y se encuentra disponible aquí: https://imbalanced-learn.org/stable/index.html"
   ]
  },
  {
   "cell_type": "code",
   "execution_count": null,
   "id": "4279b53c",
   "metadata": {},
   "outputs": [],
   "source": [
    "from imblearn.over_sampling import RandomOverSampler\n",
    "from imblearn.under_sampling import RandomUnderSampler\n",
    "\n",
    "from sklearn.tree import DecisionTreeClassifier\n",
    "from sklearn.metrics import balanced_accuracy_score\n",
    "\n",
    "def resample_and_train(sampler):\n",
    "    X_resampled, y_resampled = sampler.fit_resample(X_train, Y_train)\n",
    "\n",
    "    dt = DecisionTreeClassifier(random_state = random_state)\n",
    "    dt.fit(X_resampled, y_resampled)\n",
    "\n",
    "    dt_prediction = dt.predict(X_test)\n",
    "    print('Decision Tree accuracy = {:0.3f}'.format(balanced_accuracy_score(Y_test, dt_prediction)))\n",
    "\n",
    "resample_and_train(RandomOverSampler(random_state=42))\n",
    "resample_and_train(RandomUnderSampler(random_state=42))"
   ]
  },
  {
   "cell_type": "markdown",
   "id": "introductory-jungle",
   "metadata": {},
   "source": [
    "# Comentarios finales\n",
    "\n",
    "## Clasificación \"multi-clase\"\n",
    "\n",
    "Un problema de clasificación \"multi-clase\" es aquel en que se pretenden clasificar las muestras en más de dos clases y cada muestra se asigna únicamente a una de ellas.\n",
    "\n",
    "Existe documentación de sklearn (https://scikit-learn.org/1.5/modules/multiclass.html) acerca de los modelos de clasificación \"multi-clase\". Todos los modelos de sklearn permiten realizar clasificación sin realizar nada a mayores. El módulo `multiclass` ofrece meta-estimadores que permiten implementar estrategias alternativas de clasificación \"multi-clase\".\n",
    "\n",
    "## Documentación de sklearn\n",
    "\n",
    "Como hemos ido viendo, la documentación de sklearn contiene muchos ejemplos de código funcional que podemos ir entendiendo y adaptando a nuestras necesidades. También tiene funciones para cargar datasets de prueba: https://scikit-learn.org/1.5/modules/classes.html?highlight=datasets#module-sklearn.datasets\n",
    "        \n",
    "Por ejemplo, el dataset de este notebook (https://scikit-learn.org/1.5/modules/generated/sklearn.datasets.load_breast_cancer.html#sklearn.datasets.load_breast_cancer) se podría cargar también de la siguiente manera:"
   ]
  },
  {
   "cell_type": "code",
   "execution_count": null,
   "id": "informed-homework",
   "metadata": {},
   "outputs": [],
   "source": [
    "from sklearn.datasets import load_breast_cancer\n",
    "data_breast_cancer = load_breast_cancer()\n",
    "print(data_breast_cancer.target_names)"
   ]
  }
 ],
 "metadata": {
  "kernelspec": {
   "display_name": "machine-learning",
   "language": "python",
   "name": "python3"
  },
  "language_info": {
   "codemirror_mode": {
    "name": "ipython",
    "version": 3
   },
   "file_extension": ".py",
   "mimetype": "text/x-python",
   "name": "python",
   "nbconvert_exporter": "python",
   "pygments_lexer": "ipython3",
   "version": "3.11.10"
  }
 },
 "nbformat": 4,
 "nbformat_minor": 5
}
